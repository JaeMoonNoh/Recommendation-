{
  "nbformat": 4,
  "nbformat_minor": 0,
  "metadata": {
    "colab": {
      "name": "NaverWebtoon_Recommendation.ipynb",
      "provenance": [],
      "collapsed_sections": []
    },
    "kernelspec": {
      "name": "python3",
      "display_name": "Python 3"
    },
    "language_info": {
      "name": "python"
    }
  },
  "cells": [
    {
      "cell_type": "code",
      "metadata": {
        "id": "7xxuE8cjZaq4"
      },
      "source": [
        "import pandas as pd\n",
        "import matplotlib.pyplot as plt\n",
        "import numpy as np\n",
        "import random\n",
        "from sklearn.manifold import TSNE\n",
        "from gensim.test.utils import common_texts\n",
        "from gensim.models.doc2vec import Doc2Vec, TaggedDocument\n",
        "from sklearn.metrics.pairwise import cosine_similarity"
      ],
      "execution_count": 1,
      "outputs": []
    },
    {
      "cell_type": "markdown",
      "metadata": {
        "id": "HaPoungIHyUb"
      },
      "source": [
        "###### 1. Make python doc2vec model"
      ]
    },
    {
      "cell_type": "code",
      "metadata": {
        "id": "uq9NGHZEaaoW"
      },
      "source": [
        "#파이선 doc2vec 모델 학습, 128차원 고정 길이의 벡터로 만듦, epochs 40 -> 300\n",
        "\n",
        "def make_doc2vec_models(tagged_data, vector_size = 128, window = 3, epochs = 300, min_counts = 0, workers = 4):\n",
        "  model = Doc2Vec(tagged_data, vector_size = vector_size, window = window, epochs = epochs, min_counts = min_counts, workers = workers)\n",
        "  return model"
      ],
      "execution_count": 2,
      "outputs": []
    },
    {
      "cell_type": "markdown",
      "metadata": {
        "id": "w8Q2EjPKICfE"
      },
      "source": [
        "###### 2. Make doc2vec data"
      ]
    },
    {
      "cell_type": "code",
      "metadata": {
        "id": "fHF9kVnCa3IF"
      },
      "source": [
        "# Doc2Vec에서 사용할 수 있는 데이터 생성\n",
        "# Doc2Vec model 학습에 사용됩니다.\n",
        "\n",
        "def make_doc2vec_webtoon(data, column, tagged_document = False):\n",
        "  data_doc = []\n",
        "  for tag, doc in zip(data.index, data[column]):\n",
        "    doc = doc.split(\" \")\n",
        "    data_doc.append(([tag], doc))\n",
        "  if tagged_document:\n",
        "    data = [TaggedDocument(words = text, tags = tag) for tag, text in data_doc]\n",
        "    return data\n",
        "  else:\n",
        "    return data_doc"
      ],
      "execution_count": 3,
      "outputs": []
    },
    {
      "cell_type": "markdown",
      "metadata": {
        "id": "2XgIy4LNIJwA"
      },
      "source": [
        "###### 3. User embedding"
      ]
    },
    {
      "cell_type": "code",
      "metadata": {
        "id": "4lpw0yrIbkl1"
      },
      "source": [
        "# User embedding 생성\n",
        "# User history를 평균해서 user embedding을 만드는 함수\n",
        "\n",
        "def make_user_embedding(index_list, data_doc, model):\n",
        "    user = []\n",
        "    user_embedding = []\n",
        "    for i in index_list:\n",
        "        user.append(data_doc[i][0][0])\n",
        "    for i in user:\n",
        "        user_embedding.append(model.docvecs[i])\n",
        "    user_embedding = np.array(user_embedding)\n",
        "    user = np.mean(user_embedding, axis = 0)\n",
        "    return user"
      ],
      "execution_count": 4,
      "outputs": []
    },
    {
      "cell_type": "markdown",
      "metadata": {
        "id": "8CigC63eIP0P"
      },
      "source": [
        "###### 4. Recommendation Top 5 "
      ]
    },
    {
      "cell_type": "code",
      "metadata": {
        "id": "DGViqOcdcMfM"
      },
      "source": [
        "# 추천 결과 반환, 상위 5개를 추천해주는 함수\n",
        "\n",
        "def recommendation_webtoon(user, data_doc, model):\n",
        "  scores = []\n",
        "\n",
        "  for tags, text in data_doc:\n",
        "    train_doc_vec = model.docvecs[tags[0]]\n",
        "    scores.append(cosine_similarity(user.reshape(-1,128), train_doc_vec.reshape(-1,128)))\n",
        "\n",
        "  scores = np.array(scores).reshape(-1)\n",
        "  scores = np.argsort(-scores)[:5]\n",
        "\n",
        "  return webtoon.loc[scores, :]"
      ],
      "execution_count": 5,
      "outputs": []
    },
    {
      "cell_type": "markdown",
      "metadata": {
        "id": "wTyzUvLgIYbI"
      },
      "source": [
        "###### 5. Check contents"
      ]
    },
    {
      "cell_type": "code",
      "metadata": {
        "id": "Xczq7Vk3c5Zz"
      },
      "source": [
        "#랜덤하게 뽑아낸 사용자가 본 컨텐츠\n",
        "\n",
        "def user_contents(data):\n",
        "  print(data[['title']])"
      ],
      "execution_count": 6,
      "outputs": []
    },
    {
      "cell_type": "code",
      "metadata": {
        "id": "kfcFjTgPdPU5",
        "colab": {
          "resources": {
            "http://localhost:8080/nbextensions/google.colab/files.js": {
              "data": "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",
              "ok": true,
              "headers": [
                [
                  "content-type",
                  "application/javascript"
                ]
              ],
              "status": 200,
              "status_text": ""
            }
          },
          "base_uri": "https://localhost:8080/",
          "height": 93
        },
        "outputId": "08b38439-8dd7-4609-b912-5601c9ba24bc"
      },
      "source": [
        "from google.colab import files\n",
        "myfile = files.upload()"
      ],
      "execution_count": 7,
      "outputs": [
        {
          "output_type": "display_data",
          "data": {
            "text/html": [
              "\n",
              "     <input type=\"file\" id=\"files-afaaae9b-56dd-4bda-9003-e8f462cfbc0c\" name=\"files[]\" multiple disabled\n",
              "        style=\"border:none\" />\n",
              "     <output id=\"result-afaaae9b-56dd-4bda-9003-e8f462cfbc0c\">\n",
              "      Upload widget is only available when the cell has been executed in the\n",
              "      current browser session. Please rerun this cell to enable.\n",
              "      </output>\n",
              "      <script src=\"/nbextensions/google.colab/files.js\"></script> "
            ],
            "text/plain": [
              "<IPython.core.display.HTML object>"
            ]
          },
          "metadata": {}
        },
        {
          "output_type": "stream",
          "name": "stdout",
          "text": [
            "Saving Webtoon_cleaned.csv to Webtoon_cleaned.csv\n"
          ]
        }
      ]
    },
    {
      "cell_type": "markdown",
      "metadata": {
        "id": "Jwkg8J5HIhHi"
      },
      "source": [
        "###### 7. See csv file"
      ]
    },
    {
      "cell_type": "code",
      "metadata": {
        "id": "tzqJVowwdQuQ",
        "colab": {
          "base_uri": "https://localhost:8080/",
          "height": 623
        },
        "outputId": "d9001c28-e288-4359-f952-61421b0f86e8"
      },
      "source": [
        "webtoon = pd.read_csv('Webtoon_cleaned.csv')\n",
        "webtoon.head()\n"
      ],
      "execution_count": 8,
      "outputs": [
        {
          "output_type": "execute_result",
          "data": {
            "text/html": [
              "<div>\n",
              "<style scoped>\n",
              "    .dataframe tbody tr th:only-of-type {\n",
              "        vertical-align: middle;\n",
              "    }\n",
              "\n",
              "    .dataframe tbody tr th {\n",
              "        vertical-align: top;\n",
              "    }\n",
              "\n",
              "    .dataframe thead th {\n",
              "        text-align: right;\n",
              "    }\n",
              "</style>\n",
              "<table border=\"1\" class=\"dataframe\">\n",
              "  <thead>\n",
              "    <tr style=\"text-align: right;\">\n",
              "      <th></th>\n",
              "      <th>Unnamed: 0</th>\n",
              "      <th>title</th>\n",
              "      <th>genre</th>\n",
              "      <th>story</th>\n",
              "      <th>title_genre_story</th>\n",
              "      <th>komoran</th>\n",
              "    </tr>\n",
              "  </thead>\n",
              "  <tbody>\n",
              "    <tr>\n",
              "      <th>0</th>\n",
              "      <td>0</td>\n",
              "      <td>참교육</td>\n",
              "      <td>액션</td>\n",
              "      <td>무너진 교권을 지키기 위해 교권보호국 소속 나화진의 참교육이 시작된다부활남 채용택 ...</td>\n",
              "      <td>참교육 액션 무너진 교권을 지키기 위해 교권보호국 소속 나화진의 참교육이 시작된다부...</td>\n",
              "      <td>['참', '교육', '액션', '교권', '교권', '보호국', '소속', '진의...</td>\n",
              "    </tr>\n",
              "    <tr>\n",
              "      <th>1</th>\n",
              "      <td>1</td>\n",
              "      <td>신의 탑</td>\n",
              "      <td>판타지</td>\n",
              "      <td>자신의 모든 것이었던 소녀를 쫓아 탑에 들어온 소년그리고 그런 소년을 시험하는 탑</td>\n",
              "      <td>신의 탑 판타지 자신의 모든 것이었던 소녀를 쫓아 탑에 들어온 소년그리고 그런 소년...</td>\n",
              "      <td>['신의 탑', '판타지', '자신', '것', '소녀', '탑', '소년', '소...</td>\n",
              "    </tr>\n",
              "    <tr>\n",
              "      <th>2</th>\n",
              "      <td>2</td>\n",
              "      <td>뷰티풀 군바리</td>\n",
              "      <td>드라마</td>\n",
              "      <td>여자도 군대에 간다면본격 여자도 군대 가는 만화</td>\n",
              "      <td>뷰티풀 군바리 드라마 여자도 군대에 간다면본격 여자도 군대 가는 만화</td>\n",
              "      <td>['뷰티풀', '군바리', '드라마', '여자도', '군대', '간다', '면', ...</td>\n",
              "    </tr>\n",
              "    <tr>\n",
              "      <th>3</th>\n",
              "      <td>3</td>\n",
              "      <td>소녀의 세계</td>\n",
              "      <td>드라마</td>\n",
              "      <td>완벽해 보이지만 사실 외로웠던 백조들과 맘씨 착한 오리가 만나여러 갈등을 함께 겪으...</td>\n",
              "      <td>소녀의 세계 드라마 완벽해 보이지만 사실 외로웠던 백조들과 맘씨 착한 오리가 만나여...</td>\n",
              "      <td>['소녀', '세계', '드라마', '완벽', '사실', '백조', '맘', '씨'...</td>\n",
              "    </tr>\n",
              "    <tr>\n",
              "      <th>4</th>\n",
              "      <td>4</td>\n",
              "      <td>팔이피플</td>\n",
              "      <td>드라마</td>\n",
              "      <td>마스크걸 위대한 방옥숙 매미희세 작가의 신작에서 육아용품 파는 평범한 유부녀 박주연...</td>\n",
              "      <td>팔이피플 드라마 마스크걸 위대한 방옥숙 매미희세 작가의 신작에서 육아용품 파는 평범...</td>\n",
              "      <td>['팔이', '피플', '드라마', '마스크', '거', '방', '옥', '숙',...</td>\n",
              "    </tr>\n",
              "  </tbody>\n",
              "</table>\n",
              "</div>"
            ],
            "text/plain": [
              "   Unnamed: 0  ...                                            komoran\n",
              "0           0  ...  ['참', '교육', '액션', '교권', '교권', '보호국', '소속', '진의...\n",
              "1           1  ...  ['신의 탑', '판타지', '자신', '것', '소녀', '탑', '소년', '소...\n",
              "2           2  ...  ['뷰티풀', '군바리', '드라마', '여자도', '군대', '간다', '면', ...\n",
              "3           3  ...  ['소녀', '세계', '드라마', '완벽', '사실', '백조', '맘', '씨'...\n",
              "4           4  ...  ['팔이', '피플', '드라마', '마스크', '거', '방', '옥', '숙',...\n",
              "\n",
              "[5 rows x 6 columns]"
            ]
          },
          "metadata": {},
          "execution_count": 8
        }
      ]
    },
    {
      "cell_type": "markdown",
      "metadata": {
        "id": "ZV4HXQhhIom6"
      },
      "source": [
        "###### 8. title_genre_story vs Komoran"
      ]
    },
    {
      "cell_type": "code",
      "metadata": {
        "id": "6Sml-C2CdUao"
      },
      "source": [
        "webtoon_comb_tag = make_doc2vec_webtoon(webtoon,'title_genre_story', tagged_document=True)\n",
        "#print(webtoon_comb_tag)\n",
        "webtoon_comb = make_doc2vec_webtoon(webtoon, 'title_genre_story')\n",
        "#print(webtoon_comb)\n",
        "webtoon_nouns_tag = make_doc2vec_webtoon(webtoon, 'komoran', tagged_document=True)\n",
        "#print(webtoon_nouns_tag)\n",
        "webtoon_nouns = make_doc2vec_webtoon(webtoon, 'komoran')\n",
        "#print(webtoon_nouns)\n",
        "#tag가 붙은 데이터는 doc2vec model 학습에 사용되며, 없는 데이터는 user embedding, cosine similarity를 구할 때 사용됩니다."
      ],
      "execution_count": 9,
      "outputs": []
    },
    {
      "cell_type": "markdown",
      "metadata": {
        "id": "uzj6oVNGIwbz"
      },
      "source": [
        "###### 9. Using function [Make python doc2vec model]"
      ]
    },
    {
      "cell_type": "code",
      "metadata": {
        "id": "fIxW9Yv5eJiC"
      },
      "source": [
        "# Doc2Vec model 만들기\n",
        "model_comb = make_doc2vec_models(webtoon_comb_tag)\n",
        "model_nouns = make_doc2vec_models(webtoon_nouns_tag)"
      ],
      "execution_count": 10,
      "outputs": []
    },
    {
      "cell_type": "markdown",
      "metadata": {
        "id": "EULcdHQsK3E_"
      },
      "source": [
        "###### 9-1. Pick random contents"
      ]
    },
    {
      "cell_type": "code",
      "metadata": {
        "id": "XQVPlH7peXEo",
        "colab": {
          "base_uri": "https://localhost:8080/"
        },
        "outputId": "4d4845da-5899-4a78-ccef-6fdfec871271"
      },
      "source": [
        "user1 = webtoon.loc[random.sample(webtoon.loc[webtoon.genre == '액션', :].index.values.tolist(),5),:]\n",
        "user_contents(user1)\n",
        "#user1,2,3 각 장르 user contents 를 만드는 과정"
      ],
      "execution_count": 11,
      "outputs": [
        {
          "output_type": "stream",
          "name": "stdout",
          "text": [
            "         title\n",
            "64   보살님이 캐리해!\n",
            "332         광장\n",
            "238     야만의 시대\n",
            "428       생존로그\n",
            "334     초인의 시대\n"
          ]
        }
      ]
    },
    {
      "cell_type": "code",
      "metadata": {
        "id": "C9pWVC0reflg",
        "colab": {
          "base_uri": "https://localhost:8080/"
        },
        "outputId": "94f7589b-a834-4b3f-a887-4b6e47efbd8f"
      },
      "source": [
        "user2 = webtoon.loc[random.sample(webtoon.loc[webtoon.genre == '스릴러', :].index.values.tolist(),5),:]\n",
        "user_contents(user2)"
      ],
      "execution_count": 12,
      "outputs": [
        {
          "output_type": "stream",
          "name": "stdout",
          "text": [
            "         title\n",
            "449       가짜인간\n",
            "75        엽총소년\n",
            "204  묵시의 인플루언서\n",
            "7         파이게임\n",
            "377       더 나우\n"
          ]
        }
      ]
    },
    {
      "cell_type": "code",
      "metadata": {
        "id": "SY-v6rj3ekCw",
        "colab": {
          "base_uri": "https://localhost:8080/"
        },
        "outputId": "b4664dda-d693-4e60-b0bc-56282d7e8cf0"
      },
      "source": [
        "user3 = webtoon.loc[random.sample(webtoon.loc[webtoon.genre == '판타지', :].index.values.tolist(),5),:]\n",
        "user_contents(user3)"
      ],
      "execution_count": 13,
      "outputs": [
        {
          "output_type": "stream",
          "name": "stdout",
          "text": [
            "          title\n",
            "233        길티액스\n",
            "209  나 혼자 네크로맨서\n",
            "407    살아남은 로맨스\n",
            "375       도사 가온\n",
            "314         트럼프\n"
          ]
        }
      ]
    },
    {
      "cell_type": "markdown",
      "metadata": {
        "id": "zJw8QZyj2lHt"
      },
      "source": [
        "### Result : title_genre_story"
      ]
    },
    {
      "cell_type": "code",
      "metadata": {
        "id": "qp9AVQNmennY"
      },
      "source": [
        "user_action = make_user_embedding(user1.index.values.tolist(), webtoon_comb,model_comb)\n",
        "user_thriller = make_user_embedding(user2.index.values.tolist(), webtoon_comb, model_comb)\n",
        "user_fantasy = make_user_embedding(user3.index.values.tolist(), webtoon_comb, model_comb)\n",
        "#각 장르마다 embedding을 통해서 128개의 평균을 구하게 됩니다."
      ],
      "execution_count": 14,
      "outputs": []
    },
    {
      "cell_type": "code",
      "metadata": {
        "id": "WXYABC8pe1MI",
        "colab": {
          "base_uri": "https://localhost:8080/",
          "height": 287
        },
        "outputId": "2a4311bb-49a9-4ac1-ca0b-f40130e085e8"
      },
      "source": [
        "result = recommendation_webtoon(user_action, webtoon_comb, model_comb)\n",
        "pd.DataFrame(result.loc[:, ['title','genre', 'story']])"
      ],
      "execution_count": 15,
      "outputs": [
        {
          "output_type": "execute_result",
          "data": {
            "text/html": [
              "<div>\n",
              "<style scoped>\n",
              "    .dataframe tbody tr th:only-of-type {\n",
              "        vertical-align: middle;\n",
              "    }\n",
              "\n",
              "    .dataframe tbody tr th {\n",
              "        vertical-align: top;\n",
              "    }\n",
              "\n",
              "    .dataframe thead th {\n",
              "        text-align: right;\n",
              "    }\n",
              "</style>\n",
              "<table border=\"1\" class=\"dataframe\">\n",
              "  <thead>\n",
              "    <tr style=\"text-align: right;\">\n",
              "      <th></th>\n",
              "      <th>title</th>\n",
              "      <th>genre</th>\n",
              "      <th>story</th>\n",
              "    </tr>\n",
              "  </thead>\n",
              "  <tbody>\n",
              "    <tr>\n",
              "      <th>219</th>\n",
              "      <td>최강전설 강해효</td>\n",
              "      <td>액션</td>\n",
              "      <td>맹수같이 거친 문제아 학생들만 모여있는 최강고등학교그곳에서 변화가 시작되었다</td>\n",
              "    </tr>\n",
              "    <tr>\n",
              "      <th>6</th>\n",
              "      <td>장씨세가 호위무사</td>\n",
              "      <td>액션</td>\n",
              "      <td>당신이 부른 것이오 나란 사람을 은둔고수 광휘 호위무사 되다웹소설 원작 웰메이드 무...</td>\n",
              "    </tr>\n",
              "    <tr>\n",
              "      <th>334</th>\n",
              "      <td>초인의 시대</td>\n",
              "      <td>액션</td>\n",
              "      <td>지구에 근원 모를 괴물들이 출현하고그들을 제압하는 초인들 또한 등장한다정체불명의 괴...</td>\n",
              "    </tr>\n",
              "    <tr>\n",
              "      <th>151</th>\n",
              "      <td>고삼무쌍</td>\n",
              "      <td>액션</td>\n",
              "      <td>천년간 사라진 무림이 현대 고등학교를 배경으로  되살아난다무림인들의 고교습격 장르파...</td>\n",
              "    </tr>\n",
              "    <tr>\n",
              "      <th>135</th>\n",
              "      <td>헬퍼 2 : 킬베로스</td>\n",
              "      <td>액션</td>\n",
              "      <td>역시는 역시 역시군킬베로스 트라이브의 대장 장광남이 펼치는 스트릿 액션 만화</td>\n",
              "    </tr>\n",
              "  </tbody>\n",
              "</table>\n",
              "</div>"
            ],
            "text/plain": [
              "           title genre                                              story\n",
              "219     최강전설 강해효    액션         맹수같이 거친 문제아 학생들만 모여있는 최강고등학교그곳에서 변화가 시작되었다\n",
              "6      장씨세가 호위무사    액션  당신이 부른 것이오 나란 사람을 은둔고수 광휘 호위무사 되다웹소설 원작 웰메이드 무...\n",
              "334       초인의 시대    액션  지구에 근원 모를 괴물들이 출현하고그들을 제압하는 초인들 또한 등장한다정체불명의 괴...\n",
              "151         고삼무쌍    액션  천년간 사라진 무림이 현대 고등학교를 배경으로  되살아난다무림인들의 고교습격 장르파...\n",
              "135  헬퍼 2 : 킬베로스    액션         역시는 역시 역시군킬베로스 트라이브의 대장 장광남이 펼치는 스트릿 액션 만화"
            ]
          },
          "metadata": {},
          "execution_count": 15
        }
      ]
    },
    {
      "cell_type": "code",
      "metadata": {
        "id": "YOrIqpiwfLB2",
        "colab": {
          "base_uri": "https://localhost:8080/",
          "height": 287
        },
        "outputId": "d73e312a-4a79-4558-dedd-755352dee3c0"
      },
      "source": [
        "result = recommendation_webtoon(user_thriller, webtoon_comb, model_comb)\n",
        "pd.DataFrame(result.loc[:, ['title','genre', 'story']])"
      ],
      "execution_count": 16,
      "outputs": [
        {
          "output_type": "execute_result",
          "data": {
            "text/html": [
              "<div>\n",
              "<style scoped>\n",
              "    .dataframe tbody tr th:only-of-type {\n",
              "        vertical-align: middle;\n",
              "    }\n",
              "\n",
              "    .dataframe tbody tr th {\n",
              "        vertical-align: top;\n",
              "    }\n",
              "\n",
              "    .dataframe thead th {\n",
              "        text-align: right;\n",
              "    }\n",
              "</style>\n",
              "<table border=\"1\" class=\"dataframe\">\n",
              "  <thead>\n",
              "    <tr style=\"text-align: right;\">\n",
              "      <th></th>\n",
              "      <th>title</th>\n",
              "      <th>genre</th>\n",
              "      <th>story</th>\n",
              "    </tr>\n",
              "  </thead>\n",
              "  <tbody>\n",
              "    <tr>\n",
              "      <th>7</th>\n",
              "      <td>파이게임</td>\n",
              "      <td>스릴러</td>\n",
              "      <td>시간이 흐르면 돈이 쌓인다피가 흐르면 시간이 쌓인다과연 최후에 남을 상금과 승자는 ...</td>\n",
              "    </tr>\n",
              "    <tr>\n",
              "      <th>169</th>\n",
              "      <td>아도나이</td>\n",
              "      <td>스릴러</td>\n",
              "      <td>외계인을 믿는 사이비종교 심층 취재기이 종교 알면 알수록 위험하다</td>\n",
              "    </tr>\n",
              "    <tr>\n",
              "      <th>302</th>\n",
              "      <td>악몽일기</td>\n",
              "      <td>스릴러</td>\n",
              "      <td>섬뜩한 악몽을 기록해둔 옴니버스식 공포 스릴러과연 이것은 악몽일까 현실일까평범했던 ...</td>\n",
              "    </tr>\n",
              "    <tr>\n",
              "      <th>449</th>\n",
              "      <td>가짜인간</td>\n",
              "      <td>스릴러</td>\n",
              "      <td>폭력을 일삼던 엄마의 손에서 벗어나 동생 수아와 단둘이 살게 된 지아는무슨 일이 있...</td>\n",
              "    </tr>\n",
              "    <tr>\n",
              "      <th>29</th>\n",
              "      <td>꿈의 기업</td>\n",
              "      <td>스릴러</td>\n",
              "      <td>문명을 지배하는 거대기업과 거대기업을 움직이는 인공지능그 인공지능이 꿈을 꾸기 시작했다</td>\n",
              "    </tr>\n",
              "  </tbody>\n",
              "</table>\n",
              "</div>"
            ],
            "text/plain": [
              "     title genre                                              story\n",
              "7     파이게임   스릴러  시간이 흐르면 돈이 쌓인다피가 흐르면 시간이 쌓인다과연 최후에 남을 상금과 승자는 ...\n",
              "169   아도나이   스릴러               외계인을 믿는 사이비종교 심층 취재기이 종교 알면 알수록 위험하다\n",
              "302   악몽일기   스릴러  섬뜩한 악몽을 기록해둔 옴니버스식 공포 스릴러과연 이것은 악몽일까 현실일까평범했던 ...\n",
              "449   가짜인간   스릴러  폭력을 일삼던 엄마의 손에서 벗어나 동생 수아와 단둘이 살게 된 지아는무슨 일이 있...\n",
              "29   꿈의 기업   스릴러   문명을 지배하는 거대기업과 거대기업을 움직이는 인공지능그 인공지능이 꿈을 꾸기 시작했다"
            ]
          },
          "metadata": {},
          "execution_count": 16
        }
      ]
    },
    {
      "cell_type": "code",
      "metadata": {
        "id": "MHNm12WmfYL2",
        "colab": {
          "base_uri": "https://localhost:8080/",
          "height": 287
        },
        "outputId": "353a780f-ed8c-4978-88f4-2ab102d0318e"
      },
      "source": [
        "result = recommendation_webtoon(user_fantasy, webtoon_comb, model_comb)\n",
        "pd.DataFrame(result.loc[:, ['title','genre', 'story']])"
      ],
      "execution_count": 17,
      "outputs": [
        {
          "output_type": "execute_result",
          "data": {
            "text/html": [
              "<div>\n",
              "<style scoped>\n",
              "    .dataframe tbody tr th:only-of-type {\n",
              "        vertical-align: middle;\n",
              "    }\n",
              "\n",
              "    .dataframe tbody tr th {\n",
              "        vertical-align: top;\n",
              "    }\n",
              "\n",
              "    .dataframe thead th {\n",
              "        text-align: right;\n",
              "    }\n",
              "</style>\n",
              "<table border=\"1\" class=\"dataframe\">\n",
              "  <thead>\n",
              "    <tr style=\"text-align: right;\">\n",
              "      <th></th>\n",
              "      <th>title</th>\n",
              "      <th>genre</th>\n",
              "      <th>story</th>\n",
              "    </tr>\n",
              "  </thead>\n",
              "  <tbody>\n",
              "    <tr>\n",
              "      <th>233</th>\n",
              "      <td>길티액스</td>\n",
              "      <td>판타지</td>\n",
              "      <td>눈앞의 불의를 외면하는 순간 반드시 불행한 사람이 생긴다정의로운 소년 단태는 친구를...</td>\n",
              "    </tr>\n",
              "    <tr>\n",
              "      <th>431</th>\n",
              "      <td>잉여특공대</td>\n",
              "      <td>판타지</td>\n",
              "      <td>뽀짝이 특공대원들의 슈퍼히어로맨스</td>\n",
              "    </tr>\n",
              "    <tr>\n",
              "      <th>375</th>\n",
              "      <td>도사 가온</td>\n",
              "      <td>판타지</td>\n",
              "      <td>도사가 되고픈 소년 가온과 무명도사의 도술액션 모험판타지</td>\n",
              "    </tr>\n",
              "    <tr>\n",
              "      <th>257</th>\n",
              "      <td>카루나</td>\n",
              "      <td>판타지</td>\n",
              "      <td>지옥의 군대와 맞서는 항마승병 카루나카루나에 도전하는 소년액션 모험 판타지</td>\n",
              "    </tr>\n",
              "    <tr>\n",
              "      <th>390</th>\n",
              "      <td>먹지마세요</td>\n",
              "      <td>판타지</td>\n",
              "      <td>달콤한 복숭아 소년요괴와 귀신들에게 쫓기다</td>\n",
              "    </tr>\n",
              "  </tbody>\n",
              "</table>\n",
              "</div>"
            ],
            "text/plain": [
              "     title genre                                              story\n",
              "233   길티액스   판타지  눈앞의 불의를 외면하는 순간 반드시 불행한 사람이 생긴다정의로운 소년 단태는 친구를...\n",
              "431  잉여특공대   판타지                                 뽀짝이 특공대원들의 슈퍼히어로맨스\n",
              "375  도사 가온   판타지                    도사가 되고픈 소년 가온과 무명도사의 도술액션 모험판타지\n",
              "257    카루나   판타지          지옥의 군대와 맞서는 항마승병 카루나카루나에 도전하는 소년액션 모험 판타지\n",
              "390  먹지마세요   판타지                            달콤한 복숭아 소년요괴와 귀신들에게 쫓기다"
            ]
          },
          "metadata": {},
          "execution_count": 17
        }
      ]
    },
    {
      "cell_type": "markdown",
      "metadata": {
        "id": "eLqLEh7Mx6Uk"
      },
      "source": [
        "#### Result : Komoran"
      ]
    },
    {
      "cell_type": "code",
      "metadata": {
        "id": "xlCdCEJUfha2"
      },
      "source": [
        "user_action = make_user_embedding(user1.index.values.tolist(), webtoon_nouns,model_nouns)\n",
        "user_thriller = make_user_embedding(user2.index.values.tolist(), webtoon_nouns, model_nouns)\n",
        "user_fantasy = make_user_embedding(user3.index.values.tolist(), webtoon_nouns, model_nouns)"
      ],
      "execution_count": 18,
      "outputs": []
    },
    {
      "cell_type": "code",
      "metadata": {
        "id": "fih8RM0wxUAI",
        "colab": {
          "base_uri": "https://localhost:8080/",
          "height": 270
        },
        "outputId": "0e4ffbeb-cad0-43d6-d807-29ec8a6e126a"
      },
      "source": [
        "result = recommendation_webtoon(user_action, webtoon_nouns, model_nouns)\n",
        "pd.DataFrame(result.loc[:, ['title','genre', 'story']])"
      ],
      "execution_count": 19,
      "outputs": [
        {
          "output_type": "execute_result",
          "data": {
            "text/html": [
              "<div>\n",
              "<style scoped>\n",
              "    .dataframe tbody tr th:only-of-type {\n",
              "        vertical-align: middle;\n",
              "    }\n",
              "\n",
              "    .dataframe tbody tr th {\n",
              "        vertical-align: top;\n",
              "    }\n",
              "\n",
              "    .dataframe thead th {\n",
              "        text-align: right;\n",
              "    }\n",
              "</style>\n",
              "<table border=\"1\" class=\"dataframe\">\n",
              "  <thead>\n",
              "    <tr style=\"text-align: right;\">\n",
              "      <th></th>\n",
              "      <th>title</th>\n",
              "      <th>genre</th>\n",
              "      <th>story</th>\n",
              "    </tr>\n",
              "  </thead>\n",
              "  <tbody>\n",
              "    <tr>\n",
              "      <th>334</th>\n",
              "      <td>초인의 시대</td>\n",
              "      <td>액션</td>\n",
              "      <td>지구에 근원 모를 괴물들이 출현하고그들을 제압하는 초인들 또한 등장한다정체불명의 괴...</td>\n",
              "    </tr>\n",
              "    <tr>\n",
              "      <th>332</th>\n",
              "      <td>광장</td>\n",
              "      <td>액션</td>\n",
              "      <td>군계일학 정점에서 조직을 떠난 기준년만에홀로 복귀한다</td>\n",
              "    </tr>\n",
              "    <tr>\n",
              "      <th>238</th>\n",
              "      <td>야만의 시대</td>\n",
              "      <td>액션</td>\n",
              "      <td>에서 나와 똑같이 생긴 사람을 발견했다 과거도 미래도 없이 막 나가던 내 인생과 달...</td>\n",
              "    </tr>\n",
              "    <tr>\n",
              "      <th>71</th>\n",
              "      <td>한림체육관</td>\n",
              "      <td>액션</td>\n",
              "      <td>세상에서 가장 강한 남자가 되고 싶다그릇된 강함을 실천하던 전영하가 한림체육관에 들...</td>\n",
              "    </tr>\n",
              "    <tr>\n",
              "      <th>64</th>\n",
              "      <td>보살님이 캐리해!</td>\n",
              "      <td>액션</td>\n",
              "      <td>억겁의 시간을 넘어 환생한 보살들이여 야차들의 습격에서 평화로운 일상과 법화를 수호하라</td>\n",
              "    </tr>\n",
              "  </tbody>\n",
              "</table>\n",
              "</div>"
            ],
            "text/plain": [
              "         title genre                                              story\n",
              "334     초인의 시대    액션  지구에 근원 모를 괴물들이 출현하고그들을 제압하는 초인들 또한 등장한다정체불명의 괴...\n",
              "332         광장    액션                      군계일학 정점에서 조직을 떠난 기준년만에홀로 복귀한다\n",
              "238     야만의 시대    액션  에서 나와 똑같이 생긴 사람을 발견했다 과거도 미래도 없이 막 나가던 내 인생과 달...\n",
              "71       한림체육관    액션  세상에서 가장 강한 남자가 되고 싶다그릇된 강함을 실천하던 전영하가 한림체육관에 들...\n",
              "64   보살님이 캐리해!    액션   억겁의 시간을 넘어 환생한 보살들이여 야차들의 습격에서 평화로운 일상과 법화를 수호하라"
            ]
          },
          "metadata": {},
          "execution_count": 19
        }
      ]
    },
    {
      "cell_type": "code",
      "metadata": {
        "id": "tyQnMZVrxdm_",
        "colab": {
          "base_uri": "https://localhost:8080/",
          "height": 287
        },
        "outputId": "b5542c7c-387d-4ec2-b5db-9bae53909d1a"
      },
      "source": [
        "result = recommendation_webtoon(user_thriller, webtoon_nouns, model_nouns)\n",
        "pd.DataFrame(result.loc[:, ['title','genre', 'story']])"
      ],
      "execution_count": 20,
      "outputs": [
        {
          "output_type": "execute_result",
          "data": {
            "text/html": [
              "<div>\n",
              "<style scoped>\n",
              "    .dataframe tbody tr th:only-of-type {\n",
              "        vertical-align: middle;\n",
              "    }\n",
              "\n",
              "    .dataframe tbody tr th {\n",
              "        vertical-align: top;\n",
              "    }\n",
              "\n",
              "    .dataframe thead th {\n",
              "        text-align: right;\n",
              "    }\n",
              "</style>\n",
              "<table border=\"1\" class=\"dataframe\">\n",
              "  <thead>\n",
              "    <tr style=\"text-align: right;\">\n",
              "      <th></th>\n",
              "      <th>title</th>\n",
              "      <th>genre</th>\n",
              "      <th>story</th>\n",
              "    </tr>\n",
              "  </thead>\n",
              "  <tbody>\n",
              "    <tr>\n",
              "      <th>449</th>\n",
              "      <td>가짜인간</td>\n",
              "      <td>스릴러</td>\n",
              "      <td>폭력을 일삼던 엄마의 손에서 벗어나 동생 수아와 단둘이 살게 된 지아는무슨 일이 있...</td>\n",
              "    </tr>\n",
              "    <tr>\n",
              "      <th>169</th>\n",
              "      <td>아도나이</td>\n",
              "      <td>스릴러</td>\n",
              "      <td>외계인을 믿는 사이비종교 심층 취재기이 종교 알면 알수록 위험하다</td>\n",
              "    </tr>\n",
              "    <tr>\n",
              "      <th>75</th>\n",
              "      <td>엽총소년</td>\n",
              "      <td>스릴러</td>\n",
              "      <td>약자에서 영웅이 될 수밖에 없었던 소년 한규환 그리고 그 소년을 영웅으로 만들어줄 ...</td>\n",
              "    </tr>\n",
              "    <tr>\n",
              "      <th>377</th>\n",
              "      <td>더 나우</td>\n",
              "      <td>스릴러</td>\n",
              "      <td>년 전의 순진한 나를 만났다내가 다 고쳐줄게 우리 인생과거 사건으로 인한 트라우마로...</td>\n",
              "    </tr>\n",
              "    <tr>\n",
              "      <th>234</th>\n",
              "      <td>로그아웃</td>\n",
              "      <td>스릴러</td>\n",
              "      <td>인간이 상상하기 힘든 신기술들이 개발되고욕망을 충족해가는 사람들 인류에게 주어진 선...</td>\n",
              "    </tr>\n",
              "  </tbody>\n",
              "</table>\n",
              "</div>"
            ],
            "text/plain": [
              "    title genre                                              story\n",
              "449  가짜인간   스릴러  폭력을 일삼던 엄마의 손에서 벗어나 동생 수아와 단둘이 살게 된 지아는무슨 일이 있...\n",
              "169  아도나이   스릴러               외계인을 믿는 사이비종교 심층 취재기이 종교 알면 알수록 위험하다\n",
              "75   엽총소년   스릴러  약자에서 영웅이 될 수밖에 없었던 소년 한규환 그리고 그 소년을 영웅으로 만들어줄 ...\n",
              "377  더 나우   스릴러  년 전의 순진한 나를 만났다내가 다 고쳐줄게 우리 인생과거 사건으로 인한 트라우마로...\n",
              "234  로그아웃   스릴러  인간이 상상하기 힘든 신기술들이 개발되고욕망을 충족해가는 사람들 인류에게 주어진 선..."
            ]
          },
          "metadata": {},
          "execution_count": 20
        }
      ]
    },
    {
      "cell_type": "code",
      "metadata": {
        "id": "yL1-mhr7xf7D",
        "colab": {
          "base_uri": "https://localhost:8080/",
          "height": 287
        },
        "outputId": "1789d6ad-312b-4d15-8a6f-79ab974e0621"
      },
      "source": [
        "result = recommendation_webtoon(user_fantasy, webtoon_nouns, model_nouns)\n",
        "pd.DataFrame(result.loc[:, ['title','genre', 'story']])"
      ],
      "execution_count": 21,
      "outputs": [
        {
          "output_type": "execute_result",
          "data": {
            "text/html": [
              "<div>\n",
              "<style scoped>\n",
              "    .dataframe tbody tr th:only-of-type {\n",
              "        vertical-align: middle;\n",
              "    }\n",
              "\n",
              "    .dataframe tbody tr th {\n",
              "        vertical-align: top;\n",
              "    }\n",
              "\n",
              "    .dataframe thead th {\n",
              "        text-align: right;\n",
              "    }\n",
              "</style>\n",
              "<table border=\"1\" class=\"dataframe\">\n",
              "  <thead>\n",
              "    <tr style=\"text-align: right;\">\n",
              "      <th></th>\n",
              "      <th>title</th>\n",
              "      <th>genre</th>\n",
              "      <th>story</th>\n",
              "    </tr>\n",
              "  </thead>\n",
              "  <tbody>\n",
              "    <tr>\n",
              "      <th>343</th>\n",
              "      <td>어글리후드</td>\n",
              "      <td>판타지</td>\n",
              "      <td>외계인이 유일신으로 군림한 미친 세상 바꾸고싶다면 사탄이 되어라</td>\n",
              "    </tr>\n",
              "    <tr>\n",
              "      <th>375</th>\n",
              "      <td>도사 가온</td>\n",
              "      <td>판타지</td>\n",
              "      <td>도사가 되고픈 소년 가온과 무명도사의 도술액션 모험판타지</td>\n",
              "    </tr>\n",
              "    <tr>\n",
              "      <th>78</th>\n",
              "      <td>신도림</td>\n",
              "      <td>액션</td>\n",
              "      <td>세상이 무너지고 세워진 지하도시 신도림그곳에 들어가지 못하고 생존한 소년들이 지하도...</td>\n",
              "    </tr>\n",
              "    <tr>\n",
              "      <th>314</th>\n",
              "      <td>트럼프</td>\n",
              "      <td>판타지</td>\n",
              "      <td>사형 위기에 직면한 수배범 아버지와 세상 누구보다 존경하는 단장님 사이소년의 갈등이...</td>\n",
              "    </tr>\n",
              "    <tr>\n",
              "      <th>431</th>\n",
              "      <td>잉여특공대</td>\n",
              "      <td>판타지</td>\n",
              "      <td>뽀짝이 특공대원들의 슈퍼히어로맨스</td>\n",
              "    </tr>\n",
              "  </tbody>\n",
              "</table>\n",
              "</div>"
            ],
            "text/plain": [
              "     title genre                                              story\n",
              "343  어글리후드   판타지                외계인이 유일신으로 군림한 미친 세상 바꾸고싶다면 사탄이 되어라\n",
              "375  도사 가온   판타지                    도사가 되고픈 소년 가온과 무명도사의 도술액션 모험판타지\n",
              "78     신도림    액션  세상이 무너지고 세워진 지하도시 신도림그곳에 들어가지 못하고 생존한 소년들이 지하도...\n",
              "314    트럼프   판타지  사형 위기에 직면한 수배범 아버지와 세상 누구보다 존경하는 단장님 사이소년의 갈등이...\n",
              "431  잉여특공대   판타지                                 뽀짝이 특공대원들의 슈퍼히어로맨스"
            ]
          },
          "metadata": {},
          "execution_count": 21
        }
      ]
    },
    {
      "cell_type": "code",
      "metadata": {
        "id": "FYJdW9W7xiSr"
      },
      "source": [
        ""
      ],
      "execution_count": null,
      "outputs": []
    }
  ]
}