{
  "nbformat": 4,
  "nbformat_minor": 0,
  "metadata": {
    "colab": {
      "name": "NaverWebtoon_recommendation_1.ipynb",
      "private_outputs": true,
      "provenance": [],
      "collapsed_sections": []
    },
    "kernelspec": {
      "name": "python3",
      "display_name": "Python 3"
    },
    "language_info": {
      "name": "python"
    }
  },
  "cells": [
    {
      "cell_type": "code",
      "metadata": {
        "id": "7xxuE8cjZaq4"
      },
      "source": [
        "import pandas as pd\n",
        "import matplotlib.pyplot as plt\n",
        "import numpy as np\n",
        "import random\n",
        "from sklearn.manifold import TSNE\n",
        "from gensim.test.utils import common_texts\n",
        "from gensim.models.doc2vec import Doc2Vec, TaggedDocument\n",
        "from sklearn.metrics.pairwise import cosine_similarity"
      ],
      "execution_count": null,
      "outputs": []
    },
    {
      "cell_type": "code",
      "metadata": {
        "id": "uq9NGHZEaaoW"
      },
      "source": [
        "#파이선 doc2vec 모델 학습, 128차원 고정 길이의 벡터로 만듦, epochs 40 -> 300\n",
        "\n",
        "def make_doc2vec_models(tagged_data, vector_size = 128, window = 3, epochs = 300, min_counts = 0, workers = 4):\n",
        "  model = Doc2Vec(tagged_data, vector_size = vector_size, window = window, epochs = epochs, min_counts = min_counts, workers = workers)\n",
        "  return model"
      ],
      "execution_count": null,
      "outputs": []
    },
    {
      "cell_type": "code",
      "metadata": {
        "id": "fHF9kVnCa3IF"
      },
      "source": [
        "# Doc2Vec에서 사용할 수 있는 데이터 생성\n",
        "# Doc2Vec model 학습에 사용됩니다.\n",
        "\n",
        "def make_doc2vec_webtoon(data, column, tagged_document = False):\n",
        "  data_doc = []\n",
        "  for tag, doc in zip(data.index, data[column]):\n",
        "    doc = doc.split(\" \")\n",
        "    data_doc.append(([tag], doc))\n",
        "  if tagged_document:\n",
        "    data = [TaggedDocument(words = text, tags = tag) for tag, text in data_doc]\n",
        "    return data\n",
        "  else:\n",
        "    return data_doc"
      ],
      "execution_count": null,
      "outputs": []
    },
    {
      "cell_type": "code",
      "metadata": {
        "id": "4lpw0yrIbkl1"
      },
      "source": [
        "# User embedding 생성\n",
        "# User history를 평균해서 user embedding을 만드는 함수\n",
        "\n",
        "def make_user_embedding(index_list, data_doc, model):\n",
        "    user = []\n",
        "    user_embedding = []\n",
        "    for i in index_list:\n",
        "        user.append(data_doc[i][0][0])\n",
        "    for i in user:\n",
        "        user_embedding.append(model.docvecs[i])\n",
        "    user_embedding = np.array(user_embedding)\n",
        "    user = np.mean(user_embedding, axis = 0)\n",
        "    return user"
      ],
      "execution_count": null,
      "outputs": []
    },
    {
      "cell_type": "code",
      "metadata": {
        "id": "DGViqOcdcMfM"
      },
      "source": [
        "# 추천 결과 반환, 상위 5개를 추천해주는 함수\n",
        "\n",
        "def recommendation_webtoon(user, data_doc, model):\n",
        "  scores = []\n",
        "\n",
        "  for tags, text in data_doc:\n",
        "    train_doc_vec = model.docvecs[tags[0]]\n",
        "    scores.append(cosine_similarity(user.reshape(-1,128), train_doc_vec.reshape(-1,128)))\n",
        "\n",
        "  scores = np.array(scores).reshape(-1)\n",
        "  scores = np.argsort(-scores)[:5]\n",
        "\n",
        "  return webtoon.loc[scores, :]"
      ],
      "execution_count": null,
      "outputs": []
    },
    {
      "cell_type": "code",
      "metadata": {
        "id": "Xczq7Vk3c5Zz"
      },
      "source": [
        "#랜덤하게 뽑아낸 사용자가 본 컨텐츠\n",
        "\n",
        "def user_contents(data):\n",
        "  print(data[['title']])"
      ],
      "execution_count": null,
      "outputs": []
    },
    {
      "cell_type": "code",
      "metadata": {
        "id": "kfcFjTgPdPU5"
      },
      "source": [
        "from google.colab import files\n",
        "myfile = files.upload()"
      ],
      "execution_count": null,
      "outputs": []
    },
    {
      "cell_type": "code",
      "metadata": {
        "id": "tzqJVowwdQuQ"
      },
      "source": [
        "webtoon = pd.read_csv('webtoon_processing_3.csv')\n",
        "webtoon.head()\n"
      ],
      "execution_count": null,
      "outputs": []
    },
    {
      "cell_type": "code",
      "metadata": {
        "id": "6Sml-C2CdUao"
      },
      "source": [
        "webtoon_comb_tag = make_doc2vec_webtoon(webtoon,'title_genre_story', tagged_document=True)\n",
        "#print(webtoon_doc_title_content_tag)\n",
        "webtoon_comb = make_doc2vec_webtoon(webtoon, 'title_genre_story')\n",
        "#print(webtoon_doc_title_content)\n",
        "webtoon_nouns_tag = make_doc2vec_webtoon(webtoon, 'komoran', tagged_document=True)\n",
        "#print(webtoon_doc_tok_tag)\n",
        "webtoon_nouns = make_doc2vec_webtoon(webtoon, 'komoran')\n",
        "#print(webtoon_doc_tok)\n",
        "#tag가 붙은 데이터는 doc2vec model 학습에 사용되며, 없는 데이터는 user embedding, cosine similarity를 구할 때 사용됩니다."
      ],
      "execution_count": null,
      "outputs": []
    },
    {
      "cell_type": "code",
      "metadata": {
        "id": "fIxW9Yv5eJiC"
      },
      "source": [
        "# Doc2Vec model 만들기\n",
        "model_comb = make_doc2vec_models(webtoon_comb_tag)\n",
        "model_nouns = make_doc2vec_models(webtoon_nouns_tag)"
      ],
      "execution_count": null,
      "outputs": []
    },
    {
      "cell_type": "code",
      "metadata": {
        "id": "XQVPlH7peXEo"
      },
      "source": [
        "user1 = webtoon.loc[random.sample(webtoon.loc[webtoon.genre == '액션', :].index.values.tolist(),5),:]\n",
        "user_contents(user1)\n",
        "#user1,2,3 각 장르 user contents 를 만드는 과정"
      ],
      "execution_count": null,
      "outputs": []
    },
    {
      "cell_type": "code",
      "metadata": {
        "id": "C9pWVC0reflg"
      },
      "source": [
        "user2 = webtoon.loc[random.sample(webtoon.loc[webtoon.genre == '스릴러', :].index.values.tolist(),5),:]\n",
        "user_contents(user2)"
      ],
      "execution_count": null,
      "outputs": []
    },
    {
      "cell_type": "code",
      "metadata": {
        "id": "SY-v6rj3ekCw"
      },
      "source": [
        "user3 = webtoon.loc[random.sample(webtoon.loc[webtoon.genre == '판타지', :].index.values.tolist(),5),:]\n",
        "user_contents(user3)"
      ],
      "execution_count": null,
      "outputs": []
    },
    {
      "cell_type": "code",
      "metadata": {
        "id": "qp9AVQNmennY"
      },
      "source": [
        "user_action = make_user_embedding(user1.index.values.tolist(), webtoon_comb,model_comb)\n",
        "user_thriller = make_user_embedding(user2.index.values.tolist(), webtoon_comb, model_comb)\n",
        "user_fantasy = make_user_embedding(user3.index.values.tolist(), webtoon_comb, model_comb)\n",
        "#각 장르마다 embedding을 통해서 128개의 평균을 구하게 됩니다."
      ],
      "execution_count": null,
      "outputs": []
    },
    {
      "cell_type": "code",
      "metadata": {
        "id": "WXYABC8pe1MI"
      },
      "source": [
        "result = recommendation_webtoon(user_action, webtoon_comb, model_comb)\n",
        "pd.DataFrame(result.loc[:, ['title','genre', 'title_genre_story']])"
      ],
      "execution_count": null,
      "outputs": []
    },
    {
      "cell_type": "code",
      "metadata": {
        "id": "YOrIqpiwfLB2"
      },
      "source": [
        "result = recommendation_webtoon(user_thriller, webtoon_comb, model_comb)\n",
        "pd.DataFrame(result.loc[:, ['title','genre', 'title_genre_story']])"
      ],
      "execution_count": null,
      "outputs": []
    },
    {
      "cell_type": "code",
      "metadata": {
        "id": "MHNm12WmfYL2"
      },
      "source": [
        "result = recommendation_webtoon(user_fantasy, webtoon_comb, model_comb)\n",
        "pd.DataFrame(result.loc[:, ['title','genre', 'title_genre_story']])"
      ],
      "execution_count": null,
      "outputs": []
    },
    {
      "cell_type": "code",
      "metadata": {
        "id": "xlCdCEJUfha2"
      },
      "source": [
        ""
      ],
      "execution_count": null,
      "outputs": []
    }
  ]
}